{
 "cells": [
  {
   "cell_type": "markdown",
   "metadata": {},
   "source": [
    "# Regular Expressions"
   ]
  },
  {
   "cell_type": "code",
   "execution_count": 1,
   "metadata": {
    "collapsed": true
   },
   "outputs": [],
   "source": [
    "import re"
   ]
  },
  {
   "cell_type": "code",
   "execution_count": 3,
   "metadata": {
    "collapsed": false
   },
   "outputs": [
    {
     "name": "stdout",
     "output_type": "stream",
     "text": [
      "<_sre.SRE_Match object at 0x103827098>\n",
      "None\n"
     ]
    }
   ],
   "source": [
    "# Using search\n",
    "print re.search('def', 'abcdefghijkl')\n",
    "print re.search('xyz', 'abcdefghijkl')"
   ]
  },
  {
   "cell_type": "code",
   "execution_count": 7,
   "metadata": {
    "collapsed": false
   },
   "outputs": [
    {
     "name": "stdout",
     "output_type": "stream",
     "text": [
      "Found\n"
     ]
    }
   ],
   "source": [
    "if re.search('jkl', 'abcdefghijkl'):\n",
    "    print 'Found'"
   ]
  },
  {
   "cell_type": "code",
   "execution_count": 9,
   "metadata": {
    "collapsed": false
   },
   "outputs": [
    {
     "data": {
      "text/plain": [
       "False"
      ]
     },
     "execution_count": 9,
     "metadata": {},
     "output_type": "execute_result"
    }
   ],
   "source": [
    "bool(re.search('def', 'abcdefghijkl'))\n",
    "bool(re.search('df', 'abcdefghijkl'))"
   ]
  },
  {
   "cell_type": "code",
   "execution_count": 15,
   "metadata": {
    "collapsed": false
   },
   "outputs": [
    {
     "name": "stdout",
     "output_type": "stream",
     "text": [
      "(3, 6)\n"
     ]
    }
   ],
   "source": [
    "s = 'abcdefghijkl'\n",
    "m = re.search('def', s)\n",
    "print (m.start(), m.end())"
   ]
  },
  {
   "cell_type": "code",
   "execution_count": 16,
   "metadata": {
    "collapsed": true
   },
   "outputs": [],
   "source": [
    "# Create a function srch that looks for the regular expression and tells us the location\n",
    "\n",
    "def srch(r, s):\n",
    "    m = re.search(r, s)\n",
    "    if m:\n",
    "        return (True, m.start(), m.end())\n",
    "    else:\n",
    "        return (False)"
   ]
  },
  {
   "cell_type": "code",
   "execution_count": 102,
   "metadata": {
    "collapsed": false
   },
   "outputs": [
    {
     "data": {
      "text/plain": [
       "(True, 3, 6)"
      ]
     },
     "execution_count": 102,
     "metadata": {},
     "output_type": "execute_result"
    }
   ],
   "source": [
    "srch('def', 'abcdefghijkl')"
   ]
  },
  {
   "cell_type": "code",
   "execution_count": 26,
   "metadata": {
    "collapsed": false
   },
   "outputs": [],
   "source": [
    "# Exercise 1: Write a function matchAll(pattern, lis),\n",
    "# return True if the pattern matches all the strings in the list\n",
    "def matchAll(pattern, lis):\n",
    "    return all(map(lambda string: bool(re.search(pattern, string)) , lis))"
   ]
  },
  {
   "cell_type": "code",
   "execution_count": 45,
   "metadata": {
    "collapsed": false
   },
   "outputs": [],
   "source": [
    "# Exercise 2: Write a function matchNone(pattern, lis),\n",
    "# return True if the pattern matches none of the strings in the list\n",
    "def matchNone(pattern, lis):\n",
    "    return all(map(lambda string: not bool(re.search(pattern, string)), lis))"
   ]
  },
  {
   "cell_type": "code",
   "execution_count": 47,
   "metadata": {
    "collapsed": false
   },
   "outputs": [
    {
     "data": {
      "text/plain": [
       "False"
      ]
     },
     "execution_count": 47,
     "metadata": {},
     "output_type": "execute_result"
    }
   ],
   "source": [
    "matchNone('aa', ['cat', 'dog', 'aairlines'])"
   ]
  },
  {
   "cell_type": "code",
   "execution_count": 49,
   "metadata": {
    "collapsed": false
   },
   "outputs": [
    {
     "data": {
      "text/plain": [
       "True"
      ]
     },
     "execution_count": 49,
     "metadata": {},
     "output_type": "execute_result"
    }
   ],
   "source": [
    "matchAll('aa', ['caat', 'aairlines'])"
   ]
  },
  {
   "cell_type": "code",
   "execution_count": null,
   "metadata": {
    "collapsed": true
   },
   "outputs": [],
   "source": [
    "Metacharacter: ."
   ]
  },
  {
   "cell_type": "code",
   "execution_count": 58,
   "metadata": {
    "collapsed": false
   },
   "outputs": [
    {
     "name": "stdout",
     "output_type": "stream",
     "text": [
      "(True, 7, 12)\n",
      "False\n",
      "(True, 13, 18)\n"
     ]
    }
   ],
   "source": [
    "s = 'Python works great'\n",
    "print srch('wo.ks', s)\n",
    "print srch('g..t', s)\n",
    "print srch('g...t', s)"
   ]
  },
  {
   "cell_type": "code",
   "execution_count": 60,
   "metadata": {
    "collapsed": false
   },
   "outputs": [
    {
     "name": "stdout",
     "output_type": "stream",
     "text": [
      "(True, 1, 4)\n"
     ]
    }
   ],
   "source": [
    "# Exercise 1: What happens if the pattern is found multiple times in a string\n",
    "newS = 'Cats and bats'\n",
    "print srch('ats', newS)\n",
    "\n",
    "# Result is that it only finds the first instance of the match."
   ]
  },
  {
   "cell_type": "raw",
   "metadata": {},
   "source": [
    "Metacharacter: []"
   ]
  },
  {
   "cell_type": "code",
   "execution_count": 87,
   "metadata": {
    "collapsed": false
   },
   "outputs": [
    {
     "data": {
      "text/plain": [
       "False"
      ]
     },
     "execution_count": 87,
     "metadata": {},
     "output_type": "execute_result"
    }
   ],
   "source": [
    "# Exercise 2a: Write a regex that matches the string of four characters \n",
    "# of which the first and last are lower case\n",
    "srch('^[a-z]..[a-z]$', 'hhome')"
   ]
  },
  {
   "cell_type": "code",
   "execution_count": 90,
   "metadata": {
    "collapsed": false
   },
   "outputs": [
    {
     "data": {
      "text/plain": [
       "False"
      ]
     },
     "execution_count": 90,
     "metadata": {},
     "output_type": "execute_result"
    }
   ],
   "source": [
    "# Exercise 2b: Same as above but the second character cannot be a \n",
    "# comma or semicolon\n",
    "srch('^[a-z][^,;].[a-z]$', 'h;me')"
   ]
  },
  {
   "cell_type": "code",
   "execution_count": 100,
   "metadata": {
    "collapsed": false
   },
   "outputs": [
    {
     "name": "stdout",
     "output_type": "stream",
     "text": [
      "(True, 0, 12)\n",
      "False\n",
      "(True, 0, 11)\n",
      "False\n",
      "(True, 0, 6)\n",
      "False\n"
     ]
    }
   ],
   "source": [
    "# Exercise 4: Write a regular expression and two calls to srch, one with a match and one without a match\n",
    "# 1. Regex matching two commas separated by any number of characters\n",
    "print srch(',.*,', ', dogs?DF?D,')\n",
    "print srch(',.*,', 'therefore,')\n",
    "\n",
    "# 2. Regex matching two commas separated by any number of lower-case letters\n",
    "print srch(',[a-z]*,', ',therefore,')\n",
    "print srch(',[a-z]*,', ',her name was Kate, and')\n",
    "\n",
    "# 3. Regex matching strings containing X, Y, and Z, in that order and with any number of upper-case letters in between.\n",
    "print srch('X[A-Z]*Y[A-Z]*Z', 'XABCYZABC')\n",
    "print srch('X[A-Z]*Y[A-Z]*Z', 'ZXY')"
   ]
  },
  {
   "cell_type": "code",
   "execution_count": 105,
   "metadata": {
    "collapsed": false
   },
   "outputs": [
    {
     "name": "stdout",
     "output_type": "stream",
     "text": [
      "(True, 0, 9)\n",
      "False\n",
      "(True, 0, 7)\n",
      "False\n"
     ]
    }
   ],
   "source": [
    "# Exercise 4: Write a regular expression and two calls (one matching and one not) that:\n",
    "# 1. Match a word starting with the letter A, followed by zero or more B's,\n",
    "# then one or more C's, then a D\n",
    "print srch('^AB*C+D', 'ABBCCCCCD')\n",
    "print srch('^AB*C+D', 'ABBBD')\n",
    "\n",
    "# 2. Match an R followed by one or more occurrences of \"AT\"\n",
    "print srch('R(AT)+', 'RATATAT')\n",
    "print srch('R(AT)+', 'RAMATA')"
   ]
  },
  {
   "cell_type": "code",
   "execution_count": 116,
   "metadata": {
    "collapsed": false
   },
   "outputs": [
    {
     "name": "stdout",
     "output_type": "stream",
     "text": [
      "(True, 15, 17)\n",
      "False\n",
      "False\n",
      "(True, 16, 20)\n"
     ]
    }
   ],
   "source": [
    "s = 'Once upon a time\\nand then there were none.'\n",
    "s2 = 'My name is Kate.\\nI live in New York.'\n",
    "print srch('e\\n', s)\n",
    "print srch('time.and', s2)\n",
    "print srch('^(I live)', s2)\n",
    "print srch('\\nand', s)"
   ]
  },
  {
   "cell_type": "code",
   "execution_count": 143,
   "metadata": {
    "collapsed": false
   },
   "outputs": [
    {
     "name": "stdout",
     "output_type": "stream",
     "text": [
      "My number is (516) 9721293.\n"
     ]
    }
   ],
   "source": [
    "# Exercise 5: Write a function to reformat phone numbers from:\n",
    "# 123-456-7890 to (123) 4567890\n",
    "\n",
    "def get_phone_num(num):\n",
    "    listOgroups = re.search('([0-9]{3})-([0-9]{3})-([0-9]{4})', num).groups()\n",
    "    formatNum = '(' + listOgroups[0] + ') ' + listOgroups[1] + listOgroups[2]\n",
    "    return formatNum\n",
    "\n",
    "print 'My number is %s.' % get_phone_num('516-972-1293')"
   ]
  },
  {
   "cell_type": "code",
   "execution_count": 152,
   "metadata": {
    "collapsed": false
   },
   "outputs": [
    {
     "data": {
      "text/plain": [
       "[True, True, True, True, True, True]"
      ]
     },
     "execution_count": 152,
     "metadata": {},
     "output_type": "execute_result"
    }
   ],
   "source": [
    "# Exercise 6: Write a pattern to match all of the following words\n",
    "# ['a', 'an', 'absh', 'apple', 'adsorb', 'apple99']\n",
    "s = ['a', 'an', 'absh', 'apple', 'adsorb', 'apple99']\n",
    "\n",
    "map(lambda word: bool(re.search('^a', word)), s)"
   ]
  },
  {
   "cell_type": "code",
   "execution_count": 153,
   "metadata": {
    "collapsed": false
   },
   "outputs": [
    {
     "data": {
      "text/plain": [
       "[False, False, False, False, False]"
      ]
     },
     "execution_count": 153,
     "metadata": {},
     "output_type": "execute_result"
    }
   ],
   "source": [
    "# Exercise 7: Write a pattern that does not match any of the words in the list below\n",
    "s = ['can', 'fan', 'dan', 'ran', 'pan']\n",
    "\n",
    "map(lambda word: bool(re.search('.(ab)$', word)), s)"
   ]
  },
  {
   "cell_type": "code",
   "execution_count": 157,
   "metadata": {
    "collapsed": false
   },
   "outputs": [
    {
     "name": "stdout",
     "output_type": "stream",
     "text": [
      "[True, True, True]\n",
      "[False, False, False]\n"
     ]
    }
   ],
   "source": [
    "# Exercise 8: Write a pattern that matches the words in the first list but not the second list\n",
    "s1 = ['can', 'fan', 'dan']\n",
    "s2 = ['man', 'ran', 'pan']\n",
    "\n",
    "print map(lambda word: bool(re.search('[cfd](an)$', word)), s1)\n",
    "print map(lambda word: bool(re.search('[cfd](an)$', word)), s2)"
   ]
  },
  {
   "cell_type": "code",
   "execution_count": 160,
   "metadata": {
    "collapsed": false
   },
   "outputs": [
    {
     "name": "stdout",
     "output_type": "stream",
     "text": [
      "[True, True, True, True, True]\n",
      "[False, False, False, False]\n"
     ]
    }
   ],
   "source": [
    "# Exercise 9: Write a regular expression that matches the words in the first list but not the second list.\n",
    "s1 = ['pit', 'spot', 'spate', 'slap two', 'respite']\n",
    "s2 = ['pt', 'Pot', 'peat', 'part']\n",
    "\n",
    "print map(lambda word: bool(re.search('p.t', word)), s1)\n",
    "print map(lambda word: bool(re.search('p.t', word)), s2)"
   ]
  },
  {
   "cell_type": "code",
   "execution_count": 162,
   "metadata": {
    "collapsed": false
   },
   "outputs": [
    {
     "name": "stdout",
     "output_type": "stream",
     "text": [
      "[True, True, True, True, True, True, True]\n",
      "[False, False, False, False, False, False, False, False, False]\n"
     ]
    }
   ],
   "source": [
    "# Exercise 10: Write a regular expression that matches the words in the first list but not the second list.\n",
    "s1 = ['rap them', 'tapeth', 'apth', 'wrap/try',\n",
    "    'sap tray', '87ap9th', 'apothecary']\n",
    "s2 = ['aleht', 'happy them', 'tarpth', 'Apt', 'peth',\n",
    "  'tarreth', 'ddapdg', 'apples', 'shape the']\n",
    "\n",
    "print map(lambda word: bool(re.search('ap.?t', word)), s1)\n",
    "print map(lambda word: bool(re.search('ap.?t', word)), s2)"
   ]
  },
  {
   "cell_type": "code",
   "execution_count": 175,
   "metadata": {
    "collapsed": true
   },
   "outputs": [],
   "source": [
    "# Exercise 11: Modify the telephone number function above to include an error if the user provides insufficient information.\n",
    "def test_fun(pat, tel):\n",
    "    try:\n",
    "        return re.search(pat, tel).groups()\n",
    "    except:\n",
    "        print 'ValueError'"
   ]
  },
  {
   "cell_type": "code",
   "execution_count": 185,
   "metadata": {
    "collapsed": false
   },
   "outputs": [
    {
     "data": {
      "text/plain": [
       "('516', '972', '1293')"
      ]
     },
     "execution_count": 185,
     "metadata": {},
     "output_type": "execute_result"
    }
   ],
   "source": [
    "number1 = '516-972-1293'\n",
    "\n",
    "test_fun(patt, number1)"
   ]
  },
  {
   "cell_type": "markdown",
   "metadata": {},
   "source": [
    "# Re module"
   ]
  },
  {
   "cell_type": "code",
   "execution_count": 199,
   "metadata": {
    "collapsed": false
   },
   "outputs": [
    {
     "data": {
      "text/plain": [
       "['1', '2', '3', '4', '5', '6']"
      ]
     },
     "execution_count": 199,
     "metadata": {},
     "output_type": "execute_result"
    }
   ],
   "source": [
    "# Exercise 12a: re.split\n",
    "# Write a call to split that splits  string along the commas and eliminates any spaces after the commas\n",
    "s = '1,  2,  3,  4,  5,  6'\n",
    "re.split(', *', s)"
   ]
  },
  {
   "cell_type": "code",
   "execution_count": 187,
   "metadata": {
    "collapsed": false
   },
   "outputs": [
    {
     "data": {
      "text/plain": [
       "['cats', 'cats']"
      ]
     },
     "execution_count": 187,
     "metadata": {},
     "output_type": "execute_result"
    }
   ],
   "source": [
    "# Exercise 12b:\n",
    "# Write any call to findall that prouces more than one match, and show the result.\n",
    "s = 'I don\\'t like cats but my parents have two cats at their house.'\n",
    "re.findall('cats', s)"
   ]
  },
  {
   "cell_type": "code",
   "execution_count": 200,
   "metadata": {
    "collapsed": false
   },
   "outputs": [
    {
     "data": {
      "text/plain": [
       "'(123) 4567890'"
      ]
     },
     "execution_count": 200,
     "metadata": {},
     "output_type": "execute_result"
    }
   ],
   "source": [
    "# Exercise 12c:\n",
    "# Write a call that reformats the phone numbers above in the '123-456-7890' format to (123) 456-7890\n",
    "num = '123-456-7890'\n",
    "re.sub('([0-9]{3})-([0-9]{3})-([0-9]{4})', '(\\\\1) \\\\2\\\\3', num)"
   ]
  },
  {
   "cell_type": "markdown",
   "metadata": {
    "collapsed": false
   },
   "source": [
    "# Hierarchical Documents"
   ]
  },
  {
   "cell_type": "raw",
   "metadata": {
    "collapsed": true
   },
   "source": [
    "XML Documents"
   ]
  },
  {
   "cell_type": "code",
   "execution_count": 1,
   "metadata": {
    "collapsed": true
   },
   "outputs": [],
   "source": [
    "import bs4"
   ]
  },
  {
   "cell_type": "code",
   "execution_count": 4,
   "metadata": {
    "collapsed": false
   },
   "outputs": [],
   "source": [
    "doc = bs4.BeautifulSoup(open('Regular Expression/test.xml'), 'html.parser')"
   ]
  },
  {
   "cell_type": "code",
   "execution_count": 5,
   "metadata": {
    "collapsed": true
   },
   "outputs": [],
   "source": [
    "root = doc.ceo"
   ]
  },
  {
   "cell_type": "code",
   "execution_count": 6,
   "metadata": {
    "collapsed": false
   },
   "outputs": [
    {
     "data": {
      "text/plain": [
       "bs4.element.Tag"
      ]
     },
     "execution_count": 6,
     "metadata": {},
     "output_type": "execute_result"
    }
   ],
   "source": [
    "tagtype = type(root)\n",
    "tagtype"
   ]
  },
  {
   "cell_type": "code",
   "execution_count": 7,
   "metadata": {
    "collapsed": false
   },
   "outputs": [
    {
     "data": {
      "text/plain": [
       "[u'\\n',\n",
       " <coo>\\n<dirhr></dirhr>\\n<dirfin></dirfin>\\n</coo>,\n",
       " u'\\n',\n",
       " <vpsales>\\n<mgrwest></mgrwest>\\n<mgrmidwest></mgrmidwest>\\n<mgreast></mgreast>\\n</vpsales>,\n",
       " u'\\n',\n",
       " <vpproducts>\\n<asstvpwidgets></asstvpwidgets>\\n<asstvpgadgets></asstvpgadgets>\\n</vpproducts>,\n",
       " u'\\n']"
      ]
     },
     "execution_count": 7,
     "metadata": {},
     "output_type": "execute_result"
    }
   ],
   "source": [
    "list(root.children)"
   ]
  },
  {
   "cell_type": "code",
   "execution_count": 8,
   "metadata": {
    "collapsed": false
   },
   "outputs": [
    {
     "data": {
      "text/plain": [
       "7"
      ]
     },
     "execution_count": 8,
     "metadata": {},
     "output_type": "execute_result"
    }
   ],
   "source": [
    "len(list(root.children))"
   ]
  },
  {
   "cell_type": "code",
   "execution_count": 9,
   "metadata": {
    "collapsed": true
   },
   "outputs": [],
   "source": [
    "def children(node):\n",
    "    return filter(lambda n: type(n) == tagtype, node.children)"
   ]
  },
  {
   "cell_type": "code",
   "execution_count": 10,
   "metadata": {
    "collapsed": false
   },
   "outputs": [
    {
     "data": {
      "text/plain": [
       "[<coo>\\n<dirhr></dirhr>\\n<dirfin></dirfin>\\n</coo>,\n",
       " <vpsales>\\n<mgrwest></mgrwest>\\n<mgrmidwest></mgrmidwest>\\n<mgreast></mgreast>\\n</vpsales>,\n",
       " <vpproducts>\\n<asstvpwidgets></asstvpwidgets>\\n<asstvpgadgets></asstvpgadgets>\\n</vpproducts>]"
      ]
     },
     "execution_count": 10,
     "metadata": {},
     "output_type": "execute_result"
    }
   ],
   "source": [
    "children(root)"
   ]
  },
  {
   "cell_type": "code",
   "execution_count": 11,
   "metadata": {
    "collapsed": false
   },
   "outputs": [
    {
     "data": {
      "text/plain": [
       "[u'dirhr',\n",
       " u'dirfin',\n",
       " u'mgrwest',\n",
       " u'mgrmidwest',\n",
       " u'mgreast',\n",
       " u'asstvpwidgets',\n",
       " u'asstvpgadgets']"
      ]
     },
     "execution_count": 11,
     "metadata": {},
     "output_type": "execute_result"
    }
   ],
   "source": [
    "reduce(lambda x, y: x + y, \n",
    "       map(lambda c: map(lambda gc: gc.name, children(c)),\n",
    "          children(root)))"
   ]
  },
  {
   "cell_type": "code",
   "execution_count": 24,
   "metadata": {
    "collapsed": true
   },
   "outputs": [],
   "source": [
    "# Exercise 1: The file jobs.xml has been provided. Read in this file usin \n",
    "# BeautifulSoup and then find the titles and names of every VP\n",
    "\n",
    "import bs4\n",
    "import re\n",
    "doc = bs4.BeautifulSoup(open('Regular Expression/jobs.xml'), 'xml')"
   ]
  },
  {
   "cell_type": "code",
   "execution_count": 25,
   "metadata": {
    "collapsed": false
   },
   "outputs": [
    {
     "data": {
      "text/plain": [
       "<?xml version=\"1.0\" encoding=\"unicode-escape\"?>\\n<job>CEO incumbent=\"John H Hammergren\"&gt;\\n  <job>COO incumbent=\"Ralph Lauren\"&gt;\\n    <job incumbent=\"Michael D. Fascitelli\" title=\"Director of HR\"/>\\n<job incumbent=\"Richard Kinder\" title=\"Director of Finance\"/>\\n</job>\\n<job incumbent=\"William Peter\" title=\"VP Sales\">\\n<job incumbent=\"Michael James\" title=\"Manager of West\"/>\\n<job incumbent=\"Sarah Lauren\" title=\"Manager of Midwest\"/>\\n<job incumbent=\"Adam Smith\" title=\"Manager of East\"/>\\n</job>\\n<job incumbent=\"Betty Lewis\" title=\"VP Projcts\">\\n<job incumbent=\"David Martin\" title=\"Assistant VP Widgets\"/>\\n<job incumbent=\"Paul Davis\" title=\"Assistant VP Gadgets\"/>\\n</job>\\n</job>"
      ]
     },
     "execution_count": 25,
     "metadata": {},
     "output_type": "execute_result"
    }
   ],
   "source": [
    "doc"
   ]
  },
  {
   "cell_type": "code",
   "execution_count": 26,
   "metadata": {
    "collapsed": false
   },
   "outputs": [
    {
     "name": "stdout",
     "output_type": "stream",
     "text": [
      "William Peter VP Sales\n",
      "Betty Lewis VP Projcts\n"
     ]
    }
   ],
   "source": [
    "for tag in doc.find_all(title = re.compile('^VP')):\n",
    "    print tag['incumbent'], tag['title']"
   ]
  },
  {
   "cell_type": "code",
   "execution_count": 36,
   "metadata": {
    "collapsed": false
   },
   "outputs": [],
   "source": [
    "result = dict()\n",
    "for tag in doc.find_all(title = re.compile('^VP')):\n",
    "    result[tag['incumbent']] = tag['title']"
   ]
  },
  {
   "cell_type": "raw",
   "metadata": {},
   "source": [
    "JSON Documents"
   ]
  },
  {
   "cell_type": "code",
   "execution_count": 51,
   "metadata": {
    "collapsed": false
   },
   "outputs": [],
   "source": [
    "import json"
   ]
  },
  {
   "cell_type": "code",
   "execution_count": 54,
   "metadata": {
    "collapsed": false
   },
   "outputs": [
    {
     "data": {
      "text/plain": [
       "{u'CEO': {u'COO': {u'DirFin': {u'name': u'Richard Kinder'},\n",
       "   u'DirHR': {u'name': u'Michael D. Fascitelli'},\n",
       "   u'name': u'Ralph Lauren'},\n",
       "  u'name': u'John H Hammergren'}}"
      ]
     },
     "execution_count": 54,
     "metadata": {},
     "output_type": "execute_result"
    }
   ],
   "source": [
    "f = open('Regular Expression/execs.json', 'r')\n",
    "d = json.load(f)\n",
    "d"
   ]
  },
  {
   "cell_type": "code",
   "execution_count": 68,
   "metadata": {
    "collapsed": false
   },
   "outputs": [
    {
     "data": {
      "text/plain": [
       "u'Ralph Lauren'"
      ]
     },
     "execution_count": 68,
     "metadata": {},
     "output_type": "execute_result"
    }
   ],
   "source": [
    "d['CEO']['COO']['name']"
   ]
  },
  {
   "cell_type": "code",
   "execution_count": 124,
   "metadata": {
    "collapsed": false
   },
   "outputs": [
    {
     "data": {
      "text/plain": [
       "[u'Betty Lewis', u'William Peter', u'Ralph Lauren']"
      ]
     },
     "execution_count": 124,
     "metadata": {},
     "output_type": "execute_result"
    }
   ],
   "source": [
    "# Exercise 2: A .json file has been provided. Read this file in and find\n",
    "# the incumbents of every direct report to the CEO\n",
    "\n",
    "f = open('Regular Expression/jobs.json', 'r')\n",
    "d = json.load(f)\n",
    "d\n",
    "result = []\n",
    "for people in d['job']['job']:\n",
    "    result.insert(0, people['incumbent'])\n",
    "result"
   ]
  },
  {
   "cell_type": "code",
   "execution_count": 130,
   "metadata": {
    "collapsed": false
   },
   "outputs": [
    {
     "data": {
      "text/plain": [
       "[u'job', u'incumbent', u'title']"
      ]
     },
     "execution_count": 130,
     "metadata": {},
     "output_type": "execute_result"
    }
   ],
   "source": []
  },
  {
   "cell_type": "code",
   "execution_count": null,
   "metadata": {
    "collapsed": false
   },
   "outputs": [],
   "source": []
  },
  {
   "cell_type": "code",
   "execution_count": null,
   "metadata": {
    "collapsed": false
   },
   "outputs": [],
   "source": []
  },
  {
   "cell_type": "code",
   "execution_count": null,
   "metadata": {
    "collapsed": true
   },
   "outputs": [],
   "source": []
  }
 ],
 "metadata": {
  "kernelspec": {
   "display_name": "Python 2",
   "language": "python",
   "name": "python2"
  },
  "language_info": {
   "codemirror_mode": {
    "name": "ipython",
    "version": 2
   },
   "file_extension": ".py",
   "mimetype": "text/x-python",
   "name": "python",
   "nbconvert_exporter": "python",
   "pygments_lexer": "ipython2",
   "version": "2.7.12"
  }
 },
 "nbformat": 4,
 "nbformat_minor": 0
}
