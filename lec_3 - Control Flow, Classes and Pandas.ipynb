{
 "cells": [
  {
   "cell_type": "markdown",
   "metadata": {},
   "source": [
    "# For loops"
   ]
  },
  {
   "cell_type": "code",
   "execution_count": 7,
   "metadata": {
    "collapsed": false
   },
   "outputs": [
    {
     "name": "stdout",
     "output_type": "stream",
     "text": [
      "2 2\n",
      "3 5\n",
      "5 10\n",
      "7 17\n",
      "11 28\n"
     ]
    }
   ],
   "source": [
    "# Exercise 1\n",
    "# Print the list of prime numbers along with the running sum of those numbers\n",
    "\n",
    "primes = [2, 3, 5, 7, 11]\n",
    "sum_ = 0\n",
    "for num in primes:\n",
    "    sum_ += num\n",
    "    print num, sum_"
   ]
  },
  {
   "cell_type": "code",
   "execution_count": 14,
   "metadata": {
    "collapsed": false
   },
   "outputs": [
    {
     "name": "stdout",
     "output_type": "stream",
     "text": [
      "0 don\n",
      "3 mike\n",
      "7 vivian\n",
      "13 saul\n"
     ]
    }
   ],
   "source": [
    "# Exercise 2: \n",
    "# Print a list of strings with numbers determined by length of the strings\n",
    "\n",
    "names = ['don', 'mike', 'vivian', 'saul']\n",
    "i = 0\n",
    "for name in names:\n",
    "    print i, name\n",
    "    i += len(name)"
   ]
  },
  {
   "cell_type": "code",
   "execution_count": 12,
   "metadata": {
    "collapsed": true
   },
   "outputs": [],
   "source": [
    "# Exercise 3\n",
    "# Write a function map_uc(l) that takes a list of strings\n",
    "# and returns a list of those same strings in all upper-case.\n",
    "\n",
    "def map_uc(l):\n",
    "    l_upper = []\n",
    "    for string in l:\n",
    "        l_upper.append(string.upper())\n",
    "    return l_upper"
   ]
  },
  {
   "cell_type": "code",
   "execution_count": 13,
   "metadata": {
    "collapsed": false
   },
   "outputs": [
    {
     "data": {
      "text/plain": [
       "['KATE', 'TORI', 'DOUG']"
      ]
     },
     "execution_count": 13,
     "metadata": {},
     "output_type": "execute_result"
    }
   ],
   "source": [
    "map_uc(['kate', 'tori', 'doug'])"
   ]
  },
  {
   "cell_type": "code",
   "execution_count": 18,
   "metadata": {
    "collapsed": false
   },
   "outputs": [
    {
     "name": "stdout",
     "output_type": "stream",
     "text": [
      "[[0, 'don'], [3, 'mike'], [7, 'vivian'], [13, 'saul']]\n"
     ]
    }
   ],
   "source": [
    "# Exercise 4\n",
    "# Using the information in Exercise 2, create a for loop that puts these value pairs in a new list.\n",
    "names = ['don', 'mike', 'vivian', 'saul']\n",
    "i = 0\n",
    "name_pair = []\n",
    "for name in names:\n",
    "    name_pair.append([i, name])\n",
    "    i += len(name)\n",
    "    \n",
    "print name_pair"
   ]
  },
  {
   "cell_type": "markdown",
   "metadata": {},
   "source": [
    "# While loops"
   ]
  },
  {
   "cell_type": "code",
   "execution_count": 19,
   "metadata": {
    "collapsed": false
   },
   "outputs": [
    {
     "name": "stdout",
     "output_type": "stream",
     "text": [
      "0\n",
      "1\n",
      "2\n",
      "3\n",
      "4\n",
      "5\n",
      "6\n",
      "7\n",
      "8\n",
      "9\n"
     ]
    }
   ],
   "source": [
    "i = 0\n",
    "while i < 10:\n",
    "    print i\n",
    "    i += 1"
   ]
  },
  {
   "cell_type": "code",
   "execution_count": 22,
   "metadata": {
    "collapsed": false
   },
   "outputs": [
    {
     "data": {
      "text/plain": [
       "7"
      ]
     },
     "execution_count": 22,
     "metadata": {},
     "output_type": "execute_result"
    }
   ],
   "source": [
    "n = 20\n",
    "i = 1\n",
    "sum_ = 0\n",
    "while sum_ <= n:\n",
    "    sum_ += i\n",
    "    i += 1\n",
    "    \n",
    "sum_\n",
    "i"
   ]
  },
  {
   "cell_type": "code",
   "execution_count": 43,
   "metadata": {
    "collapsed": false
   },
   "outputs": [
    {
     "name": "stdout",
     "output_type": "stream",
     "text": [
      "1\n",
      "5\n"
     ]
    }
   ],
   "source": [
    "# Exercise 1: Print the elements of a numeric list, up to the first even number\n",
    "\n",
    "l = [1, 5, 8, 9]\n",
    "i = 0\n",
    "while i < len(l) and l[i] % 2 != 0:\n",
    "    print l[i]\n",
    "    i += 1"
   ]
  },
  {
   "cell_type": "code",
   "execution_count": 46,
   "metadata": {
    "collapsed": false
   },
   "outputs": [
    {
     "name": "stdout",
     "output_type": "stream",
     "text": [
      "cat\n",
      "dog\n",
      "house\n"
     ]
    }
   ],
   "source": [
    "# Exercise 2: Print the elements of a list of strings, up to the first string whose length exceeds 10.\n",
    "\n",
    "words = ['cat', 'dog', 'house', 'trigonometry', 'algebra']\n",
    "i = 0\n",
    "\n",
    "while (i < len(words) and len(words[i]) < 10):\n",
    "    print words[i]\n",
    "    i += 1\n"
   ]
  },
  {
   "cell_type": "code",
   "execution_count": 44,
   "metadata": {
    "collapsed": false
   },
   "outputs": [
    {
     "data": {
      "text/plain": [
       "100"
      ]
     },
     "execution_count": 44,
     "metadata": {},
     "output_type": "execute_result"
    }
   ],
   "source": [
    "# Exercise 3: Sum the even elements of a numeric list\n",
    "\n",
    "l = [1, 3, 5, 6, 4, 2, 88, 93]\n",
    "i = 0\n",
    "sum_even = 0\n",
    "\n",
    "while i < len(l):\n",
    "    if l[i] % 2 == 0:\n",
    "        sum_even += l[i]\n",
    "    i += 1\n",
    "\n",
    "sum_even"
   ]
  },
  {
   "cell_type": "code",
   "execution_count": 51,
   "metadata": {
    "collapsed": false
   },
   "outputs": [
    {
     "data": {
      "text/plain": [
       "144"
      ]
     },
     "execution_count": 51,
     "metadata": {},
     "output_type": "execute_result"
    }
   ],
   "source": [
    "# Break and Continue Example\n",
    "\n",
    "sum_ = 0\n",
    "L = [1, 4, -6, 64, 75]\n",
    "for x in L:\n",
    "    if x < 0:\n",
    "        continue\n",
    "    sum_ += x\n",
    "    if sum_ > 100:\n",
    "        break\n",
    "\n",
    "sum_"
   ]
  },
  {
   "cell_type": "markdown",
   "metadata": {},
   "source": [
    "# Errors and Exceptions"
   ]
  },
  {
   "cell_type": "code",
   "execution_count": 53,
   "metadata": {
    "collapsed": false
   },
   "outputs": [
    {
     "name": "stdout",
     "output_type": "stream",
     "text": [
      "Error: existent.txt does not exist\n"
     ]
    }
   ],
   "source": [
    "def openfile(filename, mode):\n",
    "    try:\n",
    "        f = open(filename, mode)\n",
    "    except:\n",
    "        print 'Error:', filename, 'does not exist'\n",
    "        return\n",
    "\n",
    "openfile('existent.txt', 'no_such_mode')"
   ]
  },
  {
   "cell_type": "code",
   "execution_count": 55,
   "metadata": {
    "collapsed": false
   },
   "outputs": [
    {
     "name": "stdout",
     "output_type": "stream",
     "text": [
      "<type 'exceptions.ValueError'>\n"
     ]
    }
   ],
   "source": [
    "def openfile(filename, mode):\n",
    "    try:\n",
    "        f = open(filename, mode)\n",
    "    except Exception as e:\n",
    "        print type(e)\n",
    "\n",
    "openfile('existent.txt', 'no_such_mode')"
   ]
  },
  {
   "cell_type": "code",
   "execution_count": 56,
   "metadata": {
    "collapsed": false
   },
   "outputs": [
    {
     "name": "stdout",
     "output_type": "stream",
     "text": [
      "<type 'exceptions.IOError'>\n"
     ]
    }
   ],
   "source": [
    "openfile('existent.txt', 'r')"
   ]
  },
  {
   "cell_type": "code",
   "execution_count": 57,
   "metadata": {
    "collapsed": true
   },
   "outputs": [],
   "source": [
    "def openfile(filename, mode):\n",
    "    try:\n",
    "        f = open(filename, mode)\n",
    "    except IOError:\n",
    "        print 'File doesn\\'t exist in this case.'\n",
    "    except ValueError:\n",
    "        print 'Likely to be wrong mode in this case.'\n",
    "    except:\n",
    "        print 'Some other error.'\n",
    "    else:\n",
    "        print 'No error.'\n",
    "    finally:\n",
    "        print 'Everybody should have this!'"
   ]
  },
  {
   "cell_type": "code",
   "execution_count": 60,
   "metadata": {
    "collapsed": false
   },
   "outputs": [
    {
     "name": "stdout",
     "output_type": "stream",
     "text": [
      "openfile('nonexistent.txt', 'r')\n",
      "--------------------------------------------------\n",
      "Error:  (2, 'No such file or directory')\n",
      "\n",
      "\n",
      "openfile('existent.txt', 'no_such_mode')\n",
      "--------------------------------------------------\n",
      "Error:  (\"mode string must begin with one of 'r', 'w', 'a' or 'U', not 'no_such_mode'\",)\n",
      "\n",
      "\n",
      "openfile('existent.txt', 123)\n",
      "--------------------------------------------------\n",
      "Error:  ('file() argument 2 must be string, not int',)\n",
      "\n",
      "\n",
      "openfile('existent.txt', 'r')\n",
      "--------------------------------------------------\n",
      "Error:  (2, 'No such file or directory')\n"
     ]
    }
   ],
   "source": [
    "def openfile(filename, mode):\n",
    "    try:\n",
    "        f = open(filename, mode)\n",
    "    except Exception as e:\n",
    "        print 'Error: ', e.args\n",
    "\n",
    "print \"openfile('nonexistent.txt', 'r')\"\n",
    "print '-'*50\n",
    "openfile('nonexistent.txt', 'r')\n",
    "print '\\n'\n",
    "\n",
    "print \"openfile('existent.txt', 'no_such_mode')\"\n",
    "print '-'*50\n",
    "openfile('existent.txt', 'no_such_mode')\n",
    "print '\\n'\n",
    "\n",
    "print \"openfile('existent.txt', 123)\"\n",
    "print '-'*50\n",
    "openfile('existent.txt', 123)\n",
    "print '\\n'\n",
    "\n",
    "print \"openfile('existent.txt', 'r')\"\n",
    "print '-'*50\n",
    "openfile('existent.txt', 'r')"
   ]
  },
  {
   "cell_type": "code",
   "execution_count": 61,
   "metadata": {
    "collapsed": true
   },
   "outputs": [],
   "source": [
    "def f_1():\n",
    "    x = float(raw_input('Enter a number: '))\n",
    "    return f_2(x)\n",
    "\n",
    "def f_2(x):\n",
    "    return f_3(x)\n",
    "\n",
    "def f_3(x):\n",
    "    return 1/x"
   ]
  },
  {
   "cell_type": "code",
   "execution_count": 63,
   "metadata": {
    "collapsed": false
   },
   "outputs": [
    {
     "name": "stdout",
     "output_type": "stream",
     "text": [
      "Enter a number: 0\n"
     ]
    },
    {
     "ename": "ZeroDivisionError",
     "evalue": "float division by zero",
     "output_type": "error",
     "traceback": [
      "\u001b[0;31m---------------------------------------------------------------------------\u001b[0m",
      "\u001b[0;31mZeroDivisionError\u001b[0m                         Traceback (most recent call last)",
      "\u001b[0;32m<ipython-input-63-76d276433bd6>\u001b[0m in \u001b[0;36m<module>\u001b[0;34m()\u001b[0m\n\u001b[0;32m----> 1\u001b[0;31m \u001b[0mf_1\u001b[0m\u001b[0;34m(\u001b[0m\u001b[0;34m)\u001b[0m\u001b[0;34m\u001b[0m\u001b[0m\n\u001b[0m",
      "\u001b[0;32m<ipython-input-61-d511f48ec61a>\u001b[0m in \u001b[0;36mf_1\u001b[0;34m()\u001b[0m\n\u001b[1;32m      1\u001b[0m \u001b[0;32mdef\u001b[0m \u001b[0mf_1\u001b[0m\u001b[0;34m(\u001b[0m\u001b[0;34m)\u001b[0m\u001b[0;34m:\u001b[0m\u001b[0;34m\u001b[0m\u001b[0m\n\u001b[1;32m      2\u001b[0m     \u001b[0mx\u001b[0m \u001b[0;34m=\u001b[0m \u001b[0mfloat\u001b[0m\u001b[0;34m(\u001b[0m\u001b[0mraw_input\u001b[0m\u001b[0;34m(\u001b[0m\u001b[0;34m'Enter a number: '\u001b[0m\u001b[0;34m)\u001b[0m\u001b[0;34m)\u001b[0m\u001b[0;34m\u001b[0m\u001b[0m\n\u001b[0;32m----> 3\u001b[0;31m     \u001b[0;32mreturn\u001b[0m \u001b[0mf_2\u001b[0m\u001b[0;34m(\u001b[0m\u001b[0mx\u001b[0m\u001b[0;34m)\u001b[0m\u001b[0;34m\u001b[0m\u001b[0m\n\u001b[0m\u001b[1;32m      4\u001b[0m \u001b[0;34m\u001b[0m\u001b[0m\n\u001b[1;32m      5\u001b[0m \u001b[0;32mdef\u001b[0m \u001b[0mf_2\u001b[0m\u001b[0;34m(\u001b[0m\u001b[0mx\u001b[0m\u001b[0;34m)\u001b[0m\u001b[0;34m:\u001b[0m\u001b[0;34m\u001b[0m\u001b[0m\n",
      "\u001b[0;32m<ipython-input-61-d511f48ec61a>\u001b[0m in \u001b[0;36mf_2\u001b[0;34m(x)\u001b[0m\n\u001b[1;32m      4\u001b[0m \u001b[0;34m\u001b[0m\u001b[0m\n\u001b[1;32m      5\u001b[0m \u001b[0;32mdef\u001b[0m \u001b[0mf_2\u001b[0m\u001b[0;34m(\u001b[0m\u001b[0mx\u001b[0m\u001b[0;34m)\u001b[0m\u001b[0;34m:\u001b[0m\u001b[0;34m\u001b[0m\u001b[0m\n\u001b[0;32m----> 6\u001b[0;31m     \u001b[0;32mreturn\u001b[0m \u001b[0mf_3\u001b[0m\u001b[0;34m(\u001b[0m\u001b[0mx\u001b[0m\u001b[0;34m)\u001b[0m\u001b[0;34m\u001b[0m\u001b[0m\n\u001b[0m\u001b[1;32m      7\u001b[0m \u001b[0;34m\u001b[0m\u001b[0m\n\u001b[1;32m      8\u001b[0m \u001b[0;32mdef\u001b[0m \u001b[0mf_3\u001b[0m\u001b[0;34m(\u001b[0m\u001b[0mx\u001b[0m\u001b[0;34m)\u001b[0m\u001b[0;34m:\u001b[0m\u001b[0;34m\u001b[0m\u001b[0m\n",
      "\u001b[0;32m<ipython-input-61-d511f48ec61a>\u001b[0m in \u001b[0;36mf_3\u001b[0;34m(x)\u001b[0m\n\u001b[1;32m      7\u001b[0m \u001b[0;34m\u001b[0m\u001b[0m\n\u001b[1;32m      8\u001b[0m \u001b[0;32mdef\u001b[0m \u001b[0mf_3\u001b[0m\u001b[0;34m(\u001b[0m\u001b[0mx\u001b[0m\u001b[0;34m)\u001b[0m\u001b[0;34m:\u001b[0m\u001b[0;34m\u001b[0m\u001b[0m\n\u001b[0;32m----> 9\u001b[0;31m     \u001b[0;32mreturn\u001b[0m \u001b[0;36m1\u001b[0m\u001b[0;34m/\u001b[0m\u001b[0mx\u001b[0m\u001b[0;34m\u001b[0m\u001b[0m\n\u001b[0m",
      "\u001b[0;31mZeroDivisionError\u001b[0m: float division by zero"
     ]
    }
   ],
   "source": [
    "f_1()"
   ]
  },
  {
   "cell_type": "code",
   "execution_count": 64,
   "metadata": {
    "collapsed": true
   },
   "outputs": [],
   "source": [
    "def f_1():\n",
    "    while True:\n",
    "        x = float(raw_input('Enter a number: '))\n",
    "        try:\n",
    "            return f_2(x)\n",
    "        except ZeroDivisionError:\n",
    "            pass\n",
    "\n",
    "def f_2(x):\n",
    "    return f_3(x)\n",
    "\n",
    "def f_3(x):\n",
    "    return 1/x"
   ]
  },
  {
   "cell_type": "code",
   "execution_count": 65,
   "metadata": {
    "collapsed": false
   },
   "outputs": [
    {
     "name": "stdout",
     "output_type": "stream",
     "text": [
      "Enter a number: 0\n",
      "Enter a number: 10\n"
     ]
    },
    {
     "data": {
      "text/plain": [
       "0.1"
      ]
     },
     "execution_count": 65,
     "metadata": {},
     "output_type": "execute_result"
    }
   ],
   "source": [
    "f_1()"
   ]
  },
  {
   "cell_type": "code",
   "execution_count": 67,
   "metadata": {
    "collapsed": false
   },
   "outputs": [
    {
     "name": "stdout",
     "output_type": "stream",
     "text": [
      "Enter a number: a\n"
     ]
    },
    {
     "ename": "ValueError",
     "evalue": "could not convert string to float: a",
     "output_type": "error",
     "traceback": [
      "\u001b[0;31m---------------------------------------------------------------------------\u001b[0m",
      "\u001b[0;31mValueError\u001b[0m                                Traceback (most recent call last)",
      "\u001b[0;32m<ipython-input-67-4c9bf7acd132>\u001b[0m in \u001b[0;36m<module>\u001b[0;34m()\u001b[0m\n\u001b[1;32m      3\u001b[0m \u001b[0;31m# What type of error is returned? A ValueError is returned.\u001b[0m\u001b[0;34m\u001b[0m\u001b[0;34m\u001b[0m\u001b[0m\n\u001b[1;32m      4\u001b[0m \u001b[0;34m\u001b[0m\u001b[0m\n\u001b[0;32m----> 5\u001b[0;31m \u001b[0mf_1\u001b[0m\u001b[0;34m(\u001b[0m\u001b[0;34m)\u001b[0m\u001b[0;34m\u001b[0m\u001b[0m\n\u001b[0m",
      "\u001b[0;32m<ipython-input-64-49e1595a3630>\u001b[0m in \u001b[0;36mf_1\u001b[0;34m()\u001b[0m\n\u001b[1;32m      1\u001b[0m \u001b[0;32mdef\u001b[0m \u001b[0mf_1\u001b[0m\u001b[0;34m(\u001b[0m\u001b[0;34m)\u001b[0m\u001b[0;34m:\u001b[0m\u001b[0;34m\u001b[0m\u001b[0m\n\u001b[1;32m      2\u001b[0m     \u001b[0;32mwhile\u001b[0m \u001b[0mTrue\u001b[0m\u001b[0;34m:\u001b[0m\u001b[0;34m\u001b[0m\u001b[0m\n\u001b[0;32m----> 3\u001b[0;31m         \u001b[0mx\u001b[0m \u001b[0;34m=\u001b[0m \u001b[0mfloat\u001b[0m\u001b[0;34m(\u001b[0m\u001b[0mraw_input\u001b[0m\u001b[0;34m(\u001b[0m\u001b[0;34m'Enter a number: '\u001b[0m\u001b[0;34m)\u001b[0m\u001b[0;34m)\u001b[0m\u001b[0;34m\u001b[0m\u001b[0m\n\u001b[0m\u001b[1;32m      4\u001b[0m         \u001b[0;32mtry\u001b[0m\u001b[0;34m:\u001b[0m\u001b[0;34m\u001b[0m\u001b[0m\n\u001b[1;32m      5\u001b[0m             \u001b[0;32mreturn\u001b[0m \u001b[0mf_2\u001b[0m\u001b[0;34m(\u001b[0m\u001b[0mx\u001b[0m\u001b[0;34m)\u001b[0m\u001b[0;34m\u001b[0m\u001b[0m\n",
      "\u001b[0;31mValueError\u001b[0m: could not convert string to float: a"
     ]
    }
   ],
   "source": [
    "# Exercise 4: Exceptions\n",
    "# Call the function f_1() and enter the letter a.\n",
    "# What type of error is returned? A ValueError is returned.\n",
    "\n",
    "f_1()"
   ]
  },
  {
   "cell_type": "code",
   "execution_count": 76,
   "metadata": {
    "collapsed": true
   },
   "outputs": [],
   "source": [
    "# Modify the code so that it asks users to input again when encountering this error.\n",
    "def f_1():\n",
    "    while True:\n",
    "        try:\n",
    "            x = float(raw_input('Enter a number: '))\n",
    "            return f_2(x)\n",
    "        except ZeroDivisionError:\n",
    "            pass\n",
    "        except ValueError:\n",
    "            pass\n",
    "\n",
    "def f_2(x):\n",
    "    return f_3(x)\n",
    "\n",
    "def f_3(x):\n",
    "    return 1/x"
   ]
  },
  {
   "cell_type": "code",
   "execution_count": 77,
   "metadata": {
    "collapsed": false
   },
   "outputs": [
    {
     "name": "stdout",
     "output_type": "stream",
     "text": [
      "Enter a number: a\n",
      "Enter a number: a\n",
      "Enter a number: b\n",
      "Enter a number: 10\n"
     ]
    },
    {
     "data": {
      "text/plain": [
       "0.1"
      ]
     },
     "execution_count": 77,
     "metadata": {},
     "output_type": "execute_result"
    }
   ],
   "source": [
    "f_1()"
   ]
  },
  {
   "cell_type": "markdown",
   "metadata": {},
   "source": [
    "# Classes"
   ]
  },
  {
   "cell_type": "code",
   "execution_count": 133,
   "metadata": {
    "collapsed": false
   },
   "outputs": [],
   "source": [
    "def Dictionary():\n",
    "    return []\n",
    "\n",
    "def add(d, k, v):\n",
    "    return d.insert(0, (k,v))\n",
    "\n",
    "def lookup(d, k):\n",
    "    return filter(lambda l: l[0] == k, d)[0][1]\n",
    "\n",
    "def contains(d, k):\n",
    "    return filter(lambda l: l[0] ==k, d) != []"
   ]
  },
  {
   "cell_type": "code",
   "execution_count": 138,
   "metadata": {
    "collapsed": false
   },
   "outputs": [
    {
     "name": "stdout",
     "output_type": "stream",
     "text": [
      "[('ny', 'albany')]\n",
      "False\n",
      "[('nj', 'albany'), ('ny', 'albany')]\n"
     ]
    },
    {
     "data": {
      "text/plain": [
       "('nj', 'albany')"
      ]
     },
     "execution_count": 138,
     "metadata": {},
     "output_type": "execute_result"
    }
   ],
   "source": [
    "d = Dictionary()\n",
    "add(d, 'ny', 'albany')\n",
    "print d\n",
    "print contains(d, 'nj')\n",
    "add(d, 'nj', 'albany')\n",
    "print d"
   ]
  },
  {
   "cell_type": "code",
   "execution_count": 142,
   "metadata": {
    "collapsed": false
   },
   "outputs": [],
   "source": [
    "# Exercise 1: Create a class called dictionary and apply \n",
    "\n",
    "class Dictionary(object):\n",
    "    def __init__(self):\n",
    "        self.kv_pairs = []\n",
    "    \n",
    "    def add(self, k, v):\n",
    "        return self.kv_pairs.insert(0, (k,v))\n",
    "    \n",
    "    def lookup(self, k):\n",
    "        return filter(lambda p: p[0] == k, self.kv_pairs)[0][1]\n",
    "    \n",
    "    def contains(self, k):\n",
    "        return filter(lambda p: p[0] == k, self.kv_pairs) != []"
   ]
  },
  {
   "cell_type": "code",
   "execution_count": 140,
   "metadata": {
    "collapsed": false
   },
   "outputs": [],
   "source": [
    "d = Dictionary()"
   ]
  },
  {
   "cell_type": "code",
   "execution_count": 143,
   "metadata": {
    "collapsed": false
   },
   "outputs": [],
   "source": [
    "d.add('ny', 'albany')\n",
    "d.add('nj', 'trenton')"
   ]
  },
  {
   "cell_type": "code",
   "execution_count": 150,
   "metadata": {
    "collapsed": false
   },
   "outputs": [
    {
     "name": "stdout",
     "output_type": "stream",
     "text": [
      "albany\n",
      "True\n",
      "False\n"
     ]
    }
   ],
   "source": [
    "print d.lookup('ny')\n",
    "print d.contains('nj')\n",
    "print d.contains('mo')"
   ]
  },
  {
   "cell_type": "code",
   "execution_count": 162,
   "metadata": {
    "collapsed": false
   },
   "outputs": [],
   "source": [
    "# Exercise 2: Create a class called Vectors\n",
    "\n",
    "class Vector(object):\n",
    "    def __init__(self, lis):\n",
    "        self.coords = lis\n",
    "    \n",
    "    def length(self):\n",
    "        return (sum([x**2 for x in self.coords]))**0.5"
   ]
  },
  {
   "cell_type": "code",
   "execution_count": 163,
   "metadata": {
    "collapsed": false
   },
   "outputs": [
    {
     "name": "stdout",
     "output_type": "stream",
     "text": [
      "[1, 2, 3]\n",
      "3.74165738677\n"
     ]
    }
   ],
   "source": [
    "v = Vector([1, 2, 3])\n",
    "print v.coords\n",
    "print v.length()"
   ]
  },
  {
   "cell_type": "code",
   "execution_count": 164,
   "metadata": {
    "collapsed": false
   },
   "outputs": [
    {
     "ename": "AttributeError",
     "evalue": "'Vector' object has no attribute 'coords'",
     "output_type": "error",
     "traceback": [
      "\u001b[0;31m---------------------------------------------------------------------------\u001b[0m",
      "\u001b[0;31mAttributeError\u001b[0m                            Traceback (most recent call last)",
      "\u001b[0;32m<ipython-input-164-f2ea0acdf28b>\u001b[0m in \u001b[0;36m<module>\u001b[0;34m()\u001b[0m\n\u001b[1;32m      9\u001b[0m \u001b[0;34m\u001b[0m\u001b[0m\n\u001b[1;32m     10\u001b[0m \u001b[0mv\u001b[0m \u001b[0;34m=\u001b[0m \u001b[0mVector\u001b[0m\u001b[0;34m(\u001b[0m\u001b[0;34m[\u001b[0m\u001b[0;36m1\u001b[0m\u001b[0;34m,\u001b[0m \u001b[0;36m2\u001b[0m\u001b[0;34m,\u001b[0m \u001b[0;36m3\u001b[0m\u001b[0;34m]\u001b[0m\u001b[0;34m)\u001b[0m\u001b[0;34m\u001b[0m\u001b[0m\n\u001b[0;32m---> 11\u001b[0;31m \u001b[0;32mprint\u001b[0m \u001b[0mv\u001b[0m\u001b[0;34m.\u001b[0m\u001b[0mcoords\u001b[0m\u001b[0;34m\u001b[0m\u001b[0m\n\u001b[0m\u001b[1;32m     12\u001b[0m \u001b[0;32mprint\u001b[0m \u001b[0mv\u001b[0m\u001b[0;34m.\u001b[0m\u001b[0mlength\u001b[0m\u001b[0;34m(\u001b[0m\u001b[0;34m)\u001b[0m\u001b[0;34m\u001b[0m\u001b[0m\n",
      "\u001b[0;31mAttributeError\u001b[0m: 'Vector' object has no attribute 'coords'"
     ]
    }
   ],
   "source": [
    "# Exercise 3: Make the coords method private\n",
    "\n",
    "class Vector(object):\n",
    "    def __init__(self, lis):\n",
    "        self.__coords = lis\n",
    "    \n",
    "    def length(self):\n",
    "        return (sum([x**2 for x in self.coords]))**0.5\n",
    "    \n",
    "v = Vector([1, 2, 3])\n",
    "print v.coords\n",
    "print v.length()"
   ]
  },
  {
   "cell_type": "code",
   "execution_count": 176,
   "metadata": {
    "collapsed": false
   },
   "outputs": [],
   "source": [
    "class Vector(object):\n",
    "    def __init__(self, lis):\n",
    "        self.__coords = lis\n",
    "    \n",
    "    def __str__(self):\n",
    "        return 'Vector' + str(self.__coords)\n",
    "    \n",
    "    def length(self):\n",
    "        return (sum([x**2 for x in self.__coords]))**0.5\n",
    "    \n",
    "    def __add__(self, other):\n",
    "        return map(lambda x, y: x + y, self.__coords, other.__coords)"
   ]
  },
  {
   "cell_type": "code",
   "execution_count": 177,
   "metadata": {
    "collapsed": false
   },
   "outputs": [
    {
     "name": "stdout",
     "output_type": "stream",
     "text": [
      "Vector[1, 2, 3]\n"
     ]
    }
   ],
   "source": [
    "v = Vector([1, 2, 3])\n",
    "print v"
   ]
  },
  {
   "cell_type": "code",
   "execution_count": 179,
   "metadata": {
    "collapsed": false
   },
   "outputs": [
    {
     "name": "stdout",
     "output_type": "stream",
     "text": [
      "[4, 7, 10]\n"
     ]
    }
   ],
   "source": [
    "v = Vector([1, 2, 3])\n",
    "u = Vector([3, 5, 7])\n",
    "w = u + v\n",
    "print w"
   ]
  },
  {
   "cell_type": "code",
   "execution_count": 212,
   "metadata": {
    "collapsed": true
   },
   "outputs": [],
   "source": [
    "# Exercise 4: Add two more methods: eq and mul\n",
    "# __eq__(vec) returns true if this vector equals vec\n",
    "# __mul__(vec) returns the dot product of this vector and vec\n",
    "\n",
    "class Vector(object):\n",
    "    def __init__(self, lis):\n",
    "        self.__coords = lis\n",
    "    \n",
    "    def __str__(self):\n",
    "        return 'Vector' + str(self.__coords)\n",
    "    \n",
    "    def length(self):\n",
    "        return (sum([x**2 for x in self.__coords]))**0.5\n",
    "    \n",
    "    def __add__(self, other):\n",
    "        return map(lambda x, y: x + y, self.__coords, other.__coords)\n",
    "    \n",
    "    def __eq__(self, other):\n",
    "        try:\n",
    "            return all(map(lambda x, y: x == y, self.__coords, other.__coords))\n",
    "        except:\n",
    "            return False\n",
    "    \n",
    "    def __mul__(self, other):\n",
    "        try:\n",
    "            return map(lambda x, y: x*y, self.__coords, other.__coords)\n",
    "        except:\n",
    "            return 'The vectors are not the same size.'"
   ]
  },
  {
   "cell_type": "code",
   "execution_count": 217,
   "metadata": {
    "collapsed": false
   },
   "outputs": [
    {
     "name": "stdout",
     "output_type": "stream",
     "text": [
      "False\n",
      "[1, 4, 12]\n"
     ]
    }
   ],
   "source": [
    "v = Vector([1, 2, 3])\n",
    "u = Vector([1, 2, 4])\n",
    "print u == v\n",
    "print u*v"
   ]
  },
  {
   "cell_type": "code",
   "execution_count": 219,
   "metadata": {
    "collapsed": false
   },
   "outputs": [],
   "source": [
    "# Inheritance\n",
    "\n",
    "class Book(object):\n",
    "    def __init__(self, name, author = None):\n",
    "        self.name = name\n",
    "        self.author = author\n",
    "        \n",
    "    def __str__(self):\n",
    "        return '<%s> by %s' % (self.name, self.author)"
   ]
  },
  {
   "cell_type": "code",
   "execution_count": 220,
   "metadata": {
    "collapsed": false
   },
   "outputs": [],
   "source": [
    "class EBook(Book):\n",
    "    def __init__(self, name, author = None):\n",
    "        Book.__init__(self, name, author)"
   ]
  },
  {
   "cell_type": "code",
   "execution_count": 224,
   "metadata": {
    "collapsed": false
   },
   "outputs": [
    {
     "name": "stdout",
     "output_type": "stream",
     "text": [
      "<The little SAS book> by None\n",
      "<R Cookbook> by None\n"
     ]
    }
   ],
   "source": [
    "book_1 = Book('The little SAS book', None)\n",
    "ebook_1 = EBook('R Cookbook', None)\n",
    "print book_1\n",
    "print ebook_1"
   ]
  },
  {
   "cell_type": "code",
   "execution_count": 229,
   "metadata": {
    "collapsed": false
   },
   "outputs": [
    {
     "name": "stdout",
     "output_type": "stream",
     "text": [
      "<class '__main__.Book'>\n",
      "<class '__main__.EBook'>\n",
      "True\n",
      "False\n"
     ]
    }
   ],
   "source": [
    "print type(book_1)\n",
    "print type(ebook_1)\n",
    "print issubclass(EBook, Book)\n",
    "print issubclass(Book, EBook)"
   ]
  },
  {
   "cell_type": "code",
   "execution_count": 230,
   "metadata": {
    "collapsed": false
   },
   "outputs": [
    {
     "name": "stdout",
     "output_type": "stream",
     "text": [
      "True\n",
      "True\n",
      "True\n",
      "False\n"
     ]
    }
   ],
   "source": [
    "print isinstance(ebook_1, Book)\n",
    "print isinstance(ebook_1, EBook)\n",
    "print isinstance(book_1, Book)\n",
    "print isinstance(book_1, EBook)"
   ]
  },
  {
   "cell_type": "code",
   "execution_count": 235,
   "metadata": {
    "collapsed": false
   },
   "outputs": [],
   "source": [
    "# Customizing methods for a subclass\n",
    "class EBook(Book):\n",
    "    def __init__(self, name, fmt, author = None):\n",
    "        Book.__init__(self, name, author)\n",
    "        self.fmt = fmt\n",
    "    \n",
    "    def __str__(self):\n",
    "        return Book.__str__(self) + ', format: ' + self.fmt\n",
    "    \n",
    "    def get_fmt(self):\n",
    "        return self.fmt"
   ]
  },
  {
   "cell_type": "code",
   "execution_count": 237,
   "metadata": {
    "collapsed": false
   },
   "outputs": [
    {
     "name": "stdout",
     "output_type": "stream",
     "text": [
      "pdf\n",
      "<R Cookbook> by None, format: pdf\n"
     ]
    }
   ],
   "source": [
    "ebook_2 = EBook('R Cookbook', 'pdf')\n",
    "print ebook_2.get_fmt()\n",
    "print ebook_2"
   ]
  },
  {
   "cell_type": "code",
   "execution_count": 257,
   "metadata": {
    "collapsed": false
   },
   "outputs": [],
   "source": [
    "# Exercise: Add attributes and methods to EBook\n",
    "# 1. Add size attribute with a default of 0.\n",
    "# 2. Add a method get_size() that returns the size.\n",
    "# 3. Add a method compress() that divides the size in half.\n",
    "\n",
    "class EBook(Book):\n",
    "    def __init__(self, name, fmt, author = None, size = 100):\n",
    "        Book.__init__(self, name, author)\n",
    "        self.fmt = fmt\n",
    "        self.size = size\n",
    "    \n",
    "    def __str__(self):\n",
    "        return Book.__str__(self) + ', format: ' + self.fmt + ', size: ' + str(self.size)\n",
    "    \n",
    "    def get_fmt(self):\n",
    "        return self.fmt\n",
    "    \n",
    "    def get_size(self):\n",
    "        return self.size\n",
    "    \n",
    "    def compress(self):\n",
    "        self.size = self.size/2"
   ]
  },
  {
   "cell_type": "code",
   "execution_count": 261,
   "metadata": {
    "collapsed": false
   },
   "outputs": [
    {
     "name": "stdout",
     "output_type": "stream",
     "text": [
      "<R Cookbook> by 100, format: pdf, size: 100\n",
      "100\n",
      "50\n"
     ]
    }
   ],
   "source": [
    "ebook_2 = EBook('R Cookbook', 'pdf', 100)\n",
    "print ebook_2\n",
    "print ebook_2.get_size()\n",
    "ebook_2.compress()\n",
    "print ebook_2.get_size()"
   ]
  },
  {
   "cell_type": "markdown",
   "metadata": {},
   "source": [
    "# Pandas"
   ]
  },
  {
   "cell_type": "code",
   "execution_count": 262,
   "metadata": {
    "collapsed": true
   },
   "outputs": [],
   "source": [
    "import pandas as pd"
   ]
  },
  {
   "cell_type": "code",
   "execution_count": 267,
   "metadata": {
    "collapsed": false
   },
   "outputs": [
    {
     "name": "stdout",
     "output_type": "stream",
     "text": [
      "a\tb\tc\td\tmessage\r\n",
      "1\t2\t3\t4\thello\r\n",
      "5\t6\t7\t8\tworld\r\n",
      "9\t10\t11\t12\tfoo\r\n"
     ]
    }
   ],
   "source": [
    "!cat 'Control Flows, Classes and Intro to Pandas/my_df.txt'"
   ]
  },
  {
   "cell_type": "code",
   "execution_count": 272,
   "metadata": {
    "collapsed": false
   },
   "outputs": [],
   "source": [
    "A = pd.read_csv('Control Flows, Classes and Intro to Pandas/my_df.txt', sep = '\\t')"
   ]
  },
  {
   "cell_type": "code",
   "execution_count": 273,
   "metadata": {
    "collapsed": false
   },
   "outputs": [
    {
     "data": {
      "text/html": [
       "<div>\n",
       "<table border=\"1\" class=\"dataframe\">\n",
       "  <thead>\n",
       "    <tr style=\"text-align: right;\">\n",
       "      <th></th>\n",
       "      <th>a</th>\n",
       "      <th>b</th>\n",
       "      <th>c</th>\n",
       "      <th>d</th>\n",
       "      <th>message</th>\n",
       "    </tr>\n",
       "  </thead>\n",
       "  <tbody>\n",
       "    <tr>\n",
       "      <th>0</th>\n",
       "      <td>1</td>\n",
       "      <td>2</td>\n",
       "      <td>3</td>\n",
       "      <td>4</td>\n",
       "      <td>hello</td>\n",
       "    </tr>\n",
       "    <tr>\n",
       "      <th>1</th>\n",
       "      <td>5</td>\n",
       "      <td>6</td>\n",
       "      <td>7</td>\n",
       "      <td>8</td>\n",
       "      <td>world</td>\n",
       "    </tr>\n",
       "    <tr>\n",
       "      <th>2</th>\n",
       "      <td>9</td>\n",
       "      <td>10</td>\n",
       "      <td>11</td>\n",
       "      <td>12</td>\n",
       "      <td>foo</td>\n",
       "    </tr>\n",
       "  </tbody>\n",
       "</table>\n",
       "</div>"
      ],
      "text/plain": [
       "   a   b   c   d message\n",
       "0  1   2   3   4   hello\n",
       "1  5   6   7   8   world\n",
       "2  9  10  11  12     foo"
      ]
     },
     "execution_count": 273,
     "metadata": {},
     "output_type": "execute_result"
    }
   ],
   "source": [
    "A.head(10)"
   ]
  },
  {
   "cell_type": "code",
   "execution_count": 274,
   "metadata": {
    "collapsed": false
   },
   "outputs": [
    {
     "data": {
      "text/html": [
       "<div>\n",
       "<table border=\"1\" class=\"dataframe\">\n",
       "  <thead>\n",
       "    <tr style=\"text-align: right;\">\n",
       "      <th></th>\n",
       "      <th>a</th>\n",
       "      <th>b</th>\n",
       "      <th>c</th>\n",
       "      <th>d</th>\n",
       "      <th>message</th>\n",
       "    </tr>\n",
       "  </thead>\n",
       "  <tbody>\n",
       "    <tr>\n",
       "      <th>0</th>\n",
       "      <td>1</td>\n",
       "      <td>2</td>\n",
       "      <td>3</td>\n",
       "      <td>4</td>\n",
       "      <td>hello</td>\n",
       "    </tr>\n",
       "    <tr>\n",
       "      <th>1</th>\n",
       "      <td>5</td>\n",
       "      <td>6</td>\n",
       "      <td>7</td>\n",
       "      <td>8</td>\n",
       "      <td>world</td>\n",
       "    </tr>\n",
       "    <tr>\n",
       "      <th>2</th>\n",
       "      <td>9</td>\n",
       "      <td>10</td>\n",
       "      <td>11</td>\n",
       "      <td>12</td>\n",
       "      <td>foo</td>\n",
       "    </tr>\n",
       "  </tbody>\n",
       "</table>\n",
       "</div>"
      ],
      "text/plain": [
       "   a   b   c   d message\n",
       "0  1   2   3   4   hello\n",
       "1  5   6   7   8   world\n",
       "2  9  10  11  12     foo"
      ]
     },
     "execution_count": 274,
     "metadata": {},
     "output_type": "execute_result"
    }
   ],
   "source": [
    "A.tail(10)"
   ]
  },
  {
   "cell_type": "code",
   "execution_count": 277,
   "metadata": {
    "collapsed": false
   },
   "outputs": [
    {
     "data": {
      "text/html": [
       "<div>\n",
       "<table border=\"1\" class=\"dataframe\">\n",
       "  <thead>\n",
       "    <tr style=\"text-align: right;\">\n",
       "      <th></th>\n",
       "      <th>0</th>\n",
       "      <th>1</th>\n",
       "      <th>2</th>\n",
       "      <th>3</th>\n",
       "      <th>4</th>\n",
       "    </tr>\n",
       "  </thead>\n",
       "  <tbody>\n",
       "    <tr>\n",
       "      <th>0</th>\n",
       "      <td>1</td>\n",
       "      <td>2</td>\n",
       "      <td>3</td>\n",
       "      <td>4</td>\n",
       "      <td>hello</td>\n",
       "    </tr>\n",
       "    <tr>\n",
       "      <th>1</th>\n",
       "      <td>5</td>\n",
       "      <td>6</td>\n",
       "      <td>7</td>\n",
       "      <td>8</td>\n",
       "      <td>world</td>\n",
       "    </tr>\n",
       "    <tr>\n",
       "      <th>2</th>\n",
       "      <td>9</td>\n",
       "      <td>10</td>\n",
       "      <td>11</td>\n",
       "      <td>12</td>\n",
       "      <td>foo</td>\n",
       "    </tr>\n",
       "  </tbody>\n",
       "</table>\n",
       "</div>"
      ],
      "text/plain": [
       "   0   1   2   3      4\n",
       "0  1   2   3   4  hello\n",
       "1  5   6   7   8  world\n",
       "2  9  10  11  12    foo"
      ]
     },
     "execution_count": 277,
     "metadata": {},
     "output_type": "execute_result"
    }
   ],
   "source": [
    "A.columns = range(5)\n",
    "A"
   ]
  },
  {
   "cell_type": "code",
   "execution_count": 278,
   "metadata": {
    "collapsed": true
   },
   "outputs": [],
   "source": [
    "# Import iris data\n",
    "iris = pd.read_csv('Control Flows, Classes and Intro to Pandas/iris.csv')"
   ]
  },
  {
   "cell_type": "code",
   "execution_count": 280,
   "metadata": {
    "collapsed": false
   },
   "outputs": [
    {
     "data": {
      "text/html": [
       "<div>\n",
       "<table border=\"1\" class=\"dataframe\">\n",
       "  <thead>\n",
       "    <tr style=\"text-align: right;\">\n",
       "      <th></th>\n",
       "      <th>Sepal.Length</th>\n",
       "      <th>Sepal.Width</th>\n",
       "      <th>Petal.Length</th>\n",
       "      <th>Petal.Width</th>\n",
       "      <th>Species</th>\n",
       "    </tr>\n",
       "  </thead>\n",
       "  <tbody>\n",
       "    <tr>\n",
       "      <th>0</th>\n",
       "      <td>5.1</td>\n",
       "      <td>3.5</td>\n",
       "      <td>1.4</td>\n",
       "      <td>0.2</td>\n",
       "      <td>setosa</td>\n",
       "    </tr>\n",
       "    <tr>\n",
       "      <th>1</th>\n",
       "      <td>4.9</td>\n",
       "      <td>3.0</td>\n",
       "      <td>1.4</td>\n",
       "      <td>0.2</td>\n",
       "      <td>setosa</td>\n",
       "    </tr>\n",
       "    <tr>\n",
       "      <th>2</th>\n",
       "      <td>4.7</td>\n",
       "      <td>3.2</td>\n",
       "      <td>1.3</td>\n",
       "      <td>0.2</td>\n",
       "      <td>setosa</td>\n",
       "    </tr>\n",
       "    <tr>\n",
       "      <th>3</th>\n",
       "      <td>4.6</td>\n",
       "      <td>3.1</td>\n",
       "      <td>1.5</td>\n",
       "      <td>0.2</td>\n",
       "      <td>setosa</td>\n",
       "    </tr>\n",
       "    <tr>\n",
       "      <th>4</th>\n",
       "      <td>5.0</td>\n",
       "      <td>3.6</td>\n",
       "      <td>1.4</td>\n",
       "      <td>0.2</td>\n",
       "      <td>setosa</td>\n",
       "    </tr>\n",
       "  </tbody>\n",
       "</table>\n",
       "</div>"
      ],
      "text/plain": [
       "   Sepal.Length  Sepal.Width  Petal.Length  Petal.Width Species\n",
       "0           5.1          3.5           1.4          0.2  setosa\n",
       "1           4.9          3.0           1.4          0.2  setosa\n",
       "2           4.7          3.2           1.3          0.2  setosa\n",
       "3           4.6          3.1           1.5          0.2  setosa\n",
       "4           5.0          3.6           1.4          0.2  setosa"
      ]
     },
     "execution_count": 280,
     "metadata": {},
     "output_type": "execute_result"
    }
   ],
   "source": [
    "# Look at the first five rows of this data\n",
    "iris.head(5)"
   ]
  },
  {
   "cell_type": "code",
   "execution_count": 286,
   "metadata": {
    "collapsed": false
   },
   "outputs": [
    {
     "name": "stdout",
     "output_type": "stream",
     "text": [
      "Sepal.Length       5.1\n",
      "Sepal.Width        3.5\n",
      "Petal.Length       1.4\n",
      "Petal.Width        0.2\n",
      "Species         setosa\n",
      "Name: 0, dtype: object\n",
      "Sepal.Length       5.1\n",
      "Sepal.Width        3.5\n",
      "Petal.Length       1.4\n",
      "Petal.Width        0.2\n",
      "Species         setosa\n",
      "Name: 0, dtype: object\n"
     ]
    }
   ],
   "source": [
    "print iris.iloc[0]\n",
    "print iris.loc[0]"
   ]
  },
  {
   "cell_type": "code",
   "execution_count": 287,
   "metadata": {
    "collapsed": false
   },
   "outputs": [
    {
     "name": "stdout",
     "output_type": "stream",
     "text": [
      "3.5\n",
      "3.5\n"
     ]
    }
   ],
   "source": [
    "print iris.iloc[0,1]\n",
    "print iris.loc[0, 'Sepal.Width']"
   ]
  },
  {
   "cell_type": "code",
   "execution_count": 290,
   "metadata": {
    "collapsed": false
   },
   "outputs": [
    {
     "name": "stdout",
     "output_type": "stream",
     "text": [
      "Sepal.Length         5\n",
      "Sepal.Width        3.6\n",
      "Petal.Length       1.4\n",
      "Petal.Width        0.2\n",
      "Species         setosa\n",
      "Name: 4, dtype: object\n",
      "--------------------------------------------------\n",
      "Sepal.Length         5\n",
      "Sepal.Width        3.6\n",
      "Petal.Length       1.4\n",
      "Petal.Width        0.2\n",
      "Species         setosa\n",
      "Name: 4, dtype: object\n"
     ]
    }
   ],
   "source": [
    "# Exercise 1: Use loc and iloc to select the 5th row of iris\n",
    "print iris.loc[4]\n",
    "print '-'*50\n",
    "print iris.iloc[4]"
   ]
  },
  {
   "cell_type": "code",
   "execution_count": 293,
   "metadata": {
    "collapsed": false
   },
   "outputs": [
    {
     "name": "stdout",
     "output_type": "stream",
     "text": [
      "Problem 1 using loc: \n",
      "   Sepal.Length  Sepal.Width  Petal.Length  Petal.Width Species\n",
      "1           4.9          3.0           1.4          0.2  setosa\n",
      "2           4.7          3.2           1.3          0.2  setosa\n",
      "3           4.6          3.1           1.5          0.2  setosa\n",
      "4           5.0          3.6           1.4          0.2  setosa\n",
      "5           5.4          3.9           1.7          0.4  setosa\n",
      "6           4.6          3.4           1.4          0.3  setosa\n",
      "--------------------------------------------------\n",
      "Problem 1 using iloc: \n",
      "   Sepal.Length  Sepal.Width  Petal.Length  Petal.Width Species\n",
      "1           4.9          3.0           1.4          0.2  setosa\n",
      "2           4.7          3.2           1.3          0.2  setosa\n",
      "3           4.6          3.1           1.5          0.2  setosa\n",
      "4           5.0          3.6           1.4          0.2  setosa\n",
      "5           5.4          3.9           1.7          0.4  setosa\n",
      "Problem 2:\n",
      "     Sepal.Width    Species\n",
      "0            3.5     setosa\n",
      "1            3.0     setosa\n",
      "2            3.2     setosa\n",
      "3            3.1     setosa\n",
      "4            3.6     setosa\n",
      "5            3.9     setosa\n",
      "6            3.4     setosa\n",
      "7            3.4     setosa\n",
      "8            2.9     setosa\n",
      "9            3.1     setosa\n",
      "10           3.7     setosa\n",
      "11           3.4     setosa\n",
      "12           3.0     setosa\n",
      "13           3.0     setosa\n",
      "14           4.0     setosa\n",
      "15           4.4     setosa\n",
      "16           3.9     setosa\n",
      "17           3.5     setosa\n",
      "18           3.8     setosa\n",
      "19           3.8     setosa\n",
      "20           3.4     setosa\n",
      "21           3.7     setosa\n",
      "22           3.6     setosa\n",
      "23           3.3     setosa\n",
      "24           3.4     setosa\n",
      "25           3.0     setosa\n",
      "26           3.4     setosa\n",
      "27           3.5     setosa\n",
      "28           3.4     setosa\n",
      "29           3.2     setosa\n",
      "..           ...        ...\n",
      "120          3.2  virginica\n",
      "121          2.8  virginica\n",
      "122          2.8  virginica\n",
      "123          2.7  virginica\n",
      "124          3.3  virginica\n",
      "125          3.2  virginica\n",
      "126          2.8  virginica\n",
      "127          3.0  virginica\n",
      "128          2.8  virginica\n",
      "129          3.0  virginica\n",
      "130          2.8  virginica\n",
      "131          3.8  virginica\n",
      "132          2.8  virginica\n",
      "133          2.8  virginica\n",
      "134          2.6  virginica\n",
      "135          3.0  virginica\n",
      "136          3.4  virginica\n",
      "137          3.1  virginica\n",
      "138          3.0  virginica\n",
      "139          3.1  virginica\n",
      "140          3.1  virginica\n",
      "141          3.1  virginica\n",
      "142          2.7  virginica\n",
      "143          3.2  virginica\n",
      "144          3.3  virginica\n",
      "145          3.0  virginica\n",
      "146          2.5  virginica\n",
      "147          3.0  virginica\n",
      "148          3.4  virginica\n",
      "149          3.0  virginica\n",
      "\n",
      "[150 rows x 2 columns]\n"
     ]
    }
   ],
   "source": [
    "# Exercise 2\n",
    "# 1. Select the third to seventh row of the iris data set using loc and iloc\n",
    "# 2. Select sepal width and the species columns from the iris data set.\n",
    "\n",
    "print 'Problem 1 using loc: '\n",
    "print iris.loc[1:6]\n",
    "print '-'*50\n",
    "print 'Problem 1 using iloc: '\n",
    "print iris.iloc[1:6]\n",
    "\n",
    "print 'Problem 2:'\n",
    "print iris.loc[:, ['Sepal.Width', 'Species']]"
   ]
  },
  {
   "cell_type": "code",
   "execution_count": 331,
   "metadata": {
    "collapsed": false
   },
   "outputs": [
    {
     "name": "stdout",
     "output_type": "stream",
     "text": [
      "50 rows have species virginica\n"
     ]
    },
    {
     "data": {
      "text/html": [
       "<div>\n",
       "<table border=\"1\" class=\"dataframe\">\n",
       "  <thead>\n",
       "    <tr style=\"text-align: right;\">\n",
       "      <th></th>\n",
       "      <th>Sepal.Length</th>\n",
       "      <th>Sepal.Width</th>\n",
       "      <th>Petal.Length</th>\n",
       "      <th>Petal.Width</th>\n",
       "      <th>Species</th>\n",
       "    </tr>\n",
       "  </thead>\n",
       "  <tbody>\n",
       "    <tr>\n",
       "      <th>106</th>\n",
       "      <td>4.9</td>\n",
       "      <td>2.5</td>\n",
       "      <td>4.5</td>\n",
       "      <td>1.7</td>\n",
       "      <td>virginica</td>\n",
       "    </tr>\n",
       "    <tr>\n",
       "      <th>126</th>\n",
       "      <td>6.2</td>\n",
       "      <td>2.8</td>\n",
       "      <td>4.8</td>\n",
       "      <td>1.8</td>\n",
       "      <td>virginica</td>\n",
       "    </tr>\n",
       "    <tr>\n",
       "      <th>138</th>\n",
       "      <td>6.0</td>\n",
       "      <td>3.0</td>\n",
       "      <td>4.8</td>\n",
       "      <td>1.8</td>\n",
       "      <td>virginica</td>\n",
       "    </tr>\n",
       "    <tr>\n",
       "      <th>127</th>\n",
       "      <td>6.1</td>\n",
       "      <td>3.0</td>\n",
       "      <td>4.9</td>\n",
       "      <td>1.8</td>\n",
       "      <td>virginica</td>\n",
       "    </tr>\n",
       "    <tr>\n",
       "      <th>121</th>\n",
       "      <td>5.6</td>\n",
       "      <td>2.8</td>\n",
       "      <td>4.9</td>\n",
       "      <td>2.0</td>\n",
       "      <td>virginica</td>\n",
       "    </tr>\n",
       "  </tbody>\n",
       "</table>\n",
       "</div>"
      ],
      "text/plain": [
       "     Sepal.Length  Sepal.Width  Petal.Length  Petal.Width    Species\n",
       "106           4.9          2.5           4.5          1.7  virginica\n",
       "126           6.2          2.8           4.8          1.8  virginica\n",
       "138           6.0          3.0           4.8          1.8  virginica\n",
       "127           6.1          3.0           4.9          1.8  virginica\n",
       "121           5.6          2.8           4.9          2.0  virginica"
      ]
     },
     "execution_count": 331,
     "metadata": {},
     "output_type": "execute_result"
    }
   ],
   "source": [
    "# Exercise 3:\n",
    "# 1. Select subdataframe whose species are all virginica\n",
    "sub_virginica = iris.loc[iris['Species'] == 'virginica']\n",
    "# 2. How many rows have species virginica?\n",
    "print '%d rows have species virginica' % sub_virginica.shape[0]\n",
    "# 3. Sort this sub data frame by petal length\n",
    "sorted_virginica = sub_virginica.sort_values('Petal.Length')\n",
    "sorted_virginica.head()"
   ]
  },
  {
   "cell_type": "code",
   "execution_count": 332,
   "metadata": {
    "collapsed": false
   },
   "outputs": [
    {
     "data": {
      "text/plain": [
       "5.0999999999999996"
      ]
     },
     "execution_count": 332,
     "metadata": {},
     "output_type": "execute_result"
    }
   ],
   "source": [
    "# 4. What is the 20% percentile of the petal length among all the virginica?\n",
    "# First, reindex the sorted_virginica variable\n",
    "sorted_virginica = sorted_virginica.reset_index(drop = True)\n",
    "sorted_virginica.loc[int(sub_virginica.shape[0]*0.2), 'Petal.Length']"
   ]
  },
  {
   "cell_type": "markdown",
   "metadata": {},
   "source": [
    "# Reading spreadsheets"
   ]
  },
  {
   "cell_type": "code",
   "execution_count": 333,
   "metadata": {
    "collapsed": false
   },
   "outputs": [],
   "source": [
    "import openpyxl"
   ]
  },
  {
   "cell_type": "code",
   "execution_count": null,
   "metadata": {
    "collapsed": false
   },
   "outputs": [],
   "source": []
  },
  {
   "cell_type": "code",
   "execution_count": null,
   "metadata": {
    "collapsed": true
   },
   "outputs": [],
   "source": []
  }
 ],
 "metadata": {
  "kernelspec": {
   "display_name": "Python 2",
   "language": "python",
   "name": "python2"
  },
  "language_info": {
   "codemirror_mode": {
    "name": "ipython",
    "version": 2
   },
   "file_extension": ".py",
   "mimetype": "text/x-python",
   "name": "python",
   "nbconvert_exporter": "python",
   "pygments_lexer": "ipython2",
   "version": "2.7.12"
  }
 },
 "nbformat": 4,
 "nbformat_minor": 0
}
