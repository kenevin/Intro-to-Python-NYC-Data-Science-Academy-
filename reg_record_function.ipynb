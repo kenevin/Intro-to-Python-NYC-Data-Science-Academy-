{
 "cells": [
  {
   "cell_type": "markdown",
   "metadata": {},
   "source": [
    "# reg_record function"
   ]
  },
  {
   "cell_type": "raw",
   "metadata": {},
   "source": [
    "Analyze data from a text file named reg_record.txt\n",
    "\n",
    "The file is formatted such that there is one line with a person's name and the time of the message.\n",
    "Below this line is a one sentence message. \n",
    "\n",
    "Here's a sample:\n",
    "\n",
    "Jack 17:26:46\n",
    "The slogan duplicates a bliss after the plastic accent.\n",
    "Michael 17:26:47\n",
    "A tidied successor enlightens the advertised contract.\n",
    "William 17:26:48\n",
    "The secondary freedom matures beneath your suitable tip.\n",
    "John 17:26:50\n",
    "A wonderful newcomer expires on top of a cryptic entrance."
   ]
  },
  {
   "cell_type": "code",
   "execution_count": 56,
   "metadata": {
    "collapsed": false
   },
   "outputs": [],
   "source": [
    "import re\n",
    "import requests\n",
    "\n",
    "the_text = requests.get('https://s3.amazonaws.com/onlinehomework/reg_record.txt') \n",
    "record = str(the_text.text)"
   ]
  },
  {
   "cell_type": "code",
   "execution_count": 57,
   "metadata": {
    "collapsed": false
   },
   "outputs": [],
   "source": [
    "# Break up the string by lines\n",
    "listOfInfo = re.split('\\n', record)\n",
    "# Pick the lines of interest, namely those with names and times. \n",
    "names_and_times = listOfInfo[0:(len(listOfInfo)-1):2]\n",
    "# Pull out the names from this variable\n",
    "names = map(lambda name_and_time: re.sub(' [0-9]{2}:[0-9]{2}:[0-9]{2}', '', name_and_time), names_and_times)\n",
    "# Find the unique names in the list of names, or the unique participants in the messages by creating a list of the set of names\n",
    "unique_names = list(set(names))"
   ]
  },
  {
   "cell_type": "code",
   "execution_count": 58,
   "metadata": {
    "collapsed": false
   },
   "outputs": [
    {
     "data": {
      "text/plain": [
       "[('Emma', 87),\n",
       " ('Elizabeth', 89),\n",
       " ('Michael', 98),\n",
       " ('William', 91),\n",
       " ('Daniel', 77),\n",
       " ('Jack', 90),\n",
       " ('Jayden', 83),\n",
       " ('John', 99),\n",
       " ('Mary', 86),\n",
       " ('Emily', 122)]"
      ]
     },
     "execution_count": 58,
     "metadata": {},
     "output_type": "execute_result"
    }
   ],
   "source": [
    "# Now iterate through the list of names and the list of unique contributors and sum up the number of messages from each person\n",
    "people_msg_sum = [(person, sum(name == person for name in names)) for person in unique_names]\n",
    "# Now sort the list of tuples by the number of messages in descending order\n",
    "people_msg_sum = sorted(people_msg_sum, key=lambda tup: tup[1], reverse = True)\n",
    "people_msg_sum"
   ]
  },
  {
   "cell_type": "code",
   "execution_count": 84,
   "metadata": {
    "collapsed": false
   },
   "outputs": [],
   "source": [
    "# Now turn this into a function that can take any text file of messages and perform this analysis.\n",
    "\n",
    "def solution(filename):\n",
    "    f = open(filename, 'r')\n",
    "    lines = f.readlines()\n",
    "    f.close()\n",
    "    names_and_times = lines[0:(len(lines)-1):2]\n",
    "    names = map(lambda name_and_time: re.sub(' [0-9]{2}:[0-9]{2}:[0-9]{2}\\n', '', name_and_time), names_and_times)\n",
    "    unique_names = list(set(names))\n",
    "    # Now iterate through the list of names and the list of unique contributors and sum up the number of messages from each person\n",
    "    people_msg_sum = [(person, sum(name == person for name in names)) for person in unique_names]\n",
    "    # Now sort the list of tuples by the number of messages in descending order\n",
    "    people_msg_sum = sorted(people_msg_sum, key=lambda tup: tup[1], reverse = True)\n",
    "    return people_msg_sum"
   ]
  },
  {
   "cell_type": "code",
   "execution_count": 85,
   "metadata": {
    "collapsed": false
   },
   "outputs": [
    {
     "data": {
      "text/plain": [
       "[('Emily', 122),\n",
       " ('John', 99),\n",
       " ('Michael', 98),\n",
       " ('William', 91),\n",
       " ('Jack', 90),\n",
       " ('Elizabeth', 89),\n",
       " ('Emma', 87),\n",
       " ('Mary', 86),\n",
       " ('Jayden', 83),\n",
       " ('Daniel', 77)]"
      ]
     },
     "execution_count": 85,
     "metadata": {},
     "output_type": "execute_result"
    }
   ],
   "source": [
    "solution('reg_record.txt')"
   ]
  },
  {
   "cell_type": "code",
   "execution_count": null,
   "metadata": {
    "collapsed": true
   },
   "outputs": [],
   "source": []
  }
 ],
 "metadata": {
  "kernelspec": {
   "display_name": "Python 2",
   "language": "python",
   "name": "python2"
  }
 },
 "nbformat": 4,
 "nbformat_minor": 0
}
